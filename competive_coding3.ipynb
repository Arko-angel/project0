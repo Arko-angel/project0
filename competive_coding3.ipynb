{
 "cells": [
  {
   "cell_type": "markdown",
   "id": "8f7281e9",
   "metadata": {},
   "source": [
    "## 1. Traves of a list"
   ]
  },
  {
   "cell_type": "code",
   "execution_count": 2,
   "id": "6e334e6c",
   "metadata": {},
   "outputs": [
    {
     "name": "stdout",
     "output_type": "stream",
     "text": [
      "10 20 30 40 50 60 70 80 90 "
     ]
    }
   ],
   "source": [
    "l=[10,20,30,40,50,60,70,80,90]\n",
    "for i in range(len(l)):\n",
    "    print(l[i],end=\" \")"
   ]
  },
  {
   "cell_type": "markdown",
   "id": "1406c6f5",
   "metadata": {},
   "source": [
    "## 2.Tranvese of a list without for loops"
   ]
  },
  {
   "cell_type": "code",
   "execution_count": 5,
   "id": "1d0365c9",
   "metadata": {},
   "outputs": [
    {
     "name": "stdout",
     "output_type": "stream",
     "text": [
      "10-20-30-40-50-60-70-80-90\n"
     ]
    }
   ],
   "source": [
    "l=[10,20,30,40,50,60,70,80,90]\n",
    "print(\"-\".join(map(str,l)))"
   ]
  },
  {
   "cell_type": "code",
   "execution_count": 7,
   "id": "e25d4940",
   "metadata": {},
   "outputs": [
    {
     "name": "stdout",
     "output_type": "stream",
     "text": [
      "10-20-30-40-50-60-70-80-90\n"
     ]
    }
   ],
   "source": [
    "l=[10,20,30,40,50,60,70,80,90]\n",
    "print(*l,sep=\"-\")"
   ]
  },
  {
   "cell_type": "markdown",
   "id": "7c597174",
   "metadata": {},
   "source": [
    "## 3. Alternate elements"
   ]
  },
  {
   "cell_type": "code",
   "execution_count": 8,
   "id": "7b3b2ab7",
   "metadata": {},
   "outputs": [
    {
     "name": "stdout",
     "output_type": "stream",
     "text": [
      "10 30 50 70 90 "
     ]
    }
   ],
   "source": [
    "l=[10,20,30,40,50,60,70,80,90]\n",
    "for i in range(0,len(l),2):\n",
    "    print(l[i],end=\" \")"
   ]
  },
  {
   "cell_type": "code",
   "execution_count": 9,
   "id": "d1279363",
   "metadata": {},
   "outputs": [
    {
     "name": "stdout",
     "output_type": "stream",
     "text": [
      "10 30 50 70 90 "
     ]
    }
   ],
   "source": [
    "l=[10,20,30,40,50,60,70,80,90]\n",
    "for i in range(0,len(l)):\n",
    "    if(i%2==0):\n",
    "        print(l[i],end=\" \")"
   ]
  },
  {
   "cell_type": "markdown",
   "id": "f282a24d",
   "metadata": {},
   "source": [
    "## 4. Alternative Transvese of a list (right to left)"
   ]
  },
  {
   "cell_type": "code",
   "execution_count": 19,
   "id": "8f740ffe",
   "metadata": {},
   "outputs": [
    {
     "name": "stdout",
     "output_type": "stream",
     "text": [
      "[90, 70, 50, 30, 10] "
     ]
    }
   ],
   "source": [
    "l=[10,20,30,40,50,60,70,80,90]\n",
    "print(l[::-2],end=\" \")"
   ]
  },
  {
   "cell_type": "markdown",
   "id": "2b5f13c1",
   "metadata": {},
   "source": [
    "## 5. Swapping of alternative num in list"
   ]
  },
  {
   "cell_type": "code",
   "execution_count": 26,
   "id": "5c543a30",
   "metadata": {},
   "outputs": [
    {
     "name": "stdout",
     "output_type": "stream",
     "text": [
      "20 10 40 30 60 50 80 70 90\n"
     ]
    }
   ],
   "source": [
    "l=[10,20,30,40,50,60,70,80,90]\n",
    "for i in range(0,len(l),2):\n",
    "    if(i==len(l)-1):\n",
    "        break\n",
    "    temp=l[i];l[i]=l[i+1];l[i+1]=temp\n",
    "print(*l)\n",
    "    "
   ]
  },
  {
   "cell_type": "code",
   "execution_count": 27,
   "id": "d5ba7206",
   "metadata": {},
   "outputs": [
    {
     "name": "stdout",
     "output_type": "stream",
     "text": [
      "20 10 40 30 60 50 80 70 90\n"
     ]
    }
   ],
   "source": [
    "l=[10,20,30,40,50,60,70,80,90]\n",
    "for i in range(0,len(l)-1,2):\n",
    "    l[i],l[i+1]=l[i+1],l[i]\n",
    "print(*l)"
   ]
  },
  {
   "cell_type": "markdown",
   "id": "2fcc330a",
   "metadata": {},
   "source": [
    "## 6. pair st and last elements "
   ]
  },
  {
   "cell_type": "code",
   "execution_count": 38,
   "id": "94f7ab31",
   "metadata": {},
   "outputs": [
    {
     "name": "stdout",
     "output_type": "stream",
     "text": [
      "10 90\n",
      "20 80\n",
      "30 70\n",
      "40 60\n",
      "50 #\n"
     ]
    }
   ],
   "source": [
    "l=[10,20,30,40,50,60,70,80,90]\n",
    "i=0;j=len(l)-1\n",
    "while i<j:\n",
    "    print(l[i],l[j])\n",
    "    i+=1\n",
    "    j-=1\n",
    "if(i==j):\n",
    "    print(l[i],\"#\")"
   ]
  },
  {
   "cell_type": "code",
   "execution_count": 14,
   "id": "16a1f1bc",
   "metadata": {},
   "outputs": [
    {
     "name": "stdout",
     "output_type": "stream",
     "text": [
      "10 90\n",
      "20 80\n",
      "30 70\n",
      "40 60\n"
     ]
    }
   ],
   "source": [
    "l=[10,20,30,40,50,60,70,80,90]\n",
    "for i in range(len(l)//2):\n",
    "    print(l[i],l[len(l)-1-i])\n",
    "    if i==(len(l)-1-i ):\n",
    "        print(l[i],\"#\")\n",
    "    "
   ]
  },
  {
   "cell_type": "markdown",
   "id": "1c087adc",
   "metadata": {},
   "source": [
    "## 7.  replace a z with \"#\" in a string"
   ]
  },
  {
   "cell_type": "code",
   "execution_count": 48,
   "id": "a276c28e",
   "metadata": {},
   "outputs": [
    {
     "name": "stdout",
     "output_type": "stream",
     "text": [
      "['a', 'b', 'd', 'z', 'd', 'z', 'e', 's', 'z', 'l', 'o', 'h', 'i', 'u', 'z']\n",
      "['a', 'b', 'd', '#', 'd', '#', 'e', 's', '#', 'l', 'o', 'h', 'i', 'u', '#']\n",
      "abd#d#es#lohiu#\n"
     ]
    }
   ],
   "source": [
    "str1=\"abdzdzeszlohiuz\"\n",
    "l=list(str1)\n",
    "print(l)\n",
    "for i in range(len(l)):\n",
    "    if(l[i]==\"z\"):\n",
    "        l[i]=\"#\"\n",
    "print(l)\n",
    "str1=\"\".join(l)\n",
    "print(str1)"
   ]
  },
  {
   "cell_type": "markdown",
   "id": "b0ef955a",
   "metadata": {},
   "source": [
    "## 8. substring of a string"
   ]
  },
  {
   "cell_type": "code",
   "execution_count": 50,
   "id": "fa1e3734",
   "metadata": {},
   "outputs": [
    {
     "name": "stdout",
     "output_type": "stream",
     "text": [
      "a\n",
      "ab\n",
      "abc\n",
      "abcd\n",
      "b\n",
      "bc\n",
      "bcd\n",
      "c\n",
      "cd\n",
      "d\n"
     ]
    }
   ],
   "source": [
    "str1=\"abcd\"\n",
    "for i in range(len(str1)):\n",
    "    temp=str1[i]\n",
    "    print(temp)\n",
    "    for j in range(i+1,len(str1)):\n",
    "        temp+=str1[j]\n",
    "        print(temp)"
   ]
  },
  {
   "cell_type": "code",
   "execution_count": 55,
   "id": "6bc6b052",
   "metadata": {},
   "outputs": [
    {
     "name": "stdout",
     "output_type": "stream",
     "text": [
      "a\n",
      "ab\n",
      "abc\n",
      "abcd\n",
      "b\n",
      "bc\n",
      "bcd\n",
      "c\n",
      "cd\n",
      "d\n"
     ]
    }
   ],
   "source": [
    "str1=\"abcd\"\n",
    "for i in range(len(str1)):\n",
    "    for j in range(i+1,len(str1)+1):\n",
    "        print(str1[i:j])"
   ]
  },
  {
   "cell_type": "code",
   "execution_count": null,
   "id": "9e78d91e",
   "metadata": {},
   "outputs": [],
   "source": []
  }
 ],
 "metadata": {
  "kernelspec": {
   "display_name": "Python 3 (ipykernel)",
   "language": "python",
   "name": "python3"
  },
  "language_info": {
   "codemirror_mode": {
    "name": "ipython",
    "version": 3
   },
   "file_extension": ".py",
   "mimetype": "text/x-python",
   "name": "python",
   "nbconvert_exporter": "python",
   "pygments_lexer": "ipython3",
   "version": "3.11.5"
  }
 },
 "nbformat": 4,
 "nbformat_minor": 5
}
