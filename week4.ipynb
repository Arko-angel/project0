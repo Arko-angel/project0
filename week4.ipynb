{
 "cells": [
  {
   "cell_type": "code",
   "execution_count": null,
   "id": "1d5a6439",
   "metadata": {},
   "outputs": [],
   "source": []
  },
  {
   "cell_type": "code",
   "execution_count": null,
   "id": "baecf9ce",
   "metadata": {},
   "outputs": [],
   "source": [
    "# numpy\n",
    "# dict details \n"
   ]
  },
  {
   "cell_type": "markdown",
   "id": "7cf0ae60",
   "metadata": {},
   "source": [
    "## student details "
   ]
  },
  {
   "cell_type": "code",
   "execution_count": 1,
   "id": "f6943949",
   "metadata": {},
   "outputs": [],
   "source": [
    "dct={12345 : {\"st_name\" :\"ang\",\n",
    "              \"nd_name\" :\"ros\",\n",
    "              \"mail\" : \"aweq@fsk\",\n",
    "              \"batch\" : \"cse\",\n",
    "              \"year\": 3},\n",
    "     12346:{\"st_name\" :\"emy\",\n",
    "              \"nd_name \":\"mar\",\n",
    "              \"mail\" : \"abc@fsk\",\n",
    "              \"batch\" : \"cse\",\n",
    "              \"year\": 3}}\n",
    "              "
   ]
  },
  {
   "cell_type": "code",
   "execution_count": 2,
   "id": "1813f750",
   "metadata": {},
   "outputs": [
    {
     "data": {
      "text/plain": [
       "{12345: {'st_name': 'ang',\n",
       "  'nd_name': 'ros',\n",
       "  'mail': 'aweq@fsk',\n",
       "  'batch': 'cse',\n",
       "  'year': 3},\n",
       " 12346: {'st_name': 'emy',\n",
       "  'nd_name ': 'mar',\n",
       "  'mail': 'abc@fsk',\n",
       "  'batch': 'cse',\n",
       "  'year': 3}}"
      ]
     },
     "execution_count": 2,
     "metadata": {},
     "output_type": "execute_result"
    }
   ],
   "source": [
    "dct\n"
   ]
  },
  {
   "cell_type": "code",
   "execution_count": 3,
   "id": "3e2383d2",
   "metadata": {},
   "outputs": [
    {
     "data": {
      "text/plain": [
       "{'st_name': 'ang',\n",
       " 'nd_name': 'ros',\n",
       " 'mail': 'aweq@fsk',\n",
       " 'batch': 'cse',\n",
       " 'year': 3}"
      ]
     },
     "execution_count": 3,
     "metadata": {},
     "output_type": "execute_result"
    }
   ],
   "source": [
    "dct[12345]"
   ]
  },
  {
   "cell_type": "code",
   "execution_count": 4,
   "id": "85e0a815",
   "metadata": {},
   "outputs": [
    {
     "data": {
      "text/plain": [
       "'ang'"
      ]
     },
     "execution_count": 4,
     "metadata": {},
     "output_type": "execute_result"
    }
   ],
   "source": [
    "dct[12345][\"st_name\"]"
   ]
  },
  {
   "cell_type": "code",
   "execution_count": 7,
   "id": "0cc90eb5",
   "metadata": {},
   "outputs": [
    {
     "name": "stdout",
     "output_type": "stream",
     "text": [
      "--------------------------------------------------\n",
      "12345\n",
      "12346\n"
     ]
    }
   ],
   "source": [
    "print(\"--\"*25)\n",
    "for i in dct.keys():\n",
    "    print(i)"
   ]
  },
  {
   "cell_type": "code",
   "execution_count": 12,
   "id": "bcc85cfc",
   "metadata": {},
   "outputs": [
    {
     "name": "stdout",
     "output_type": "stream",
     "text": [
      "Enter the register number: 12345\n",
      "--- - --- - --- - --- - --- - \n",
      "First name  : ang\n",
      "Second name : ros\n",
      "Gmail       : aweq@fsk\n",
      "Year        : 3\n",
      "Batch name  : cse\n",
      "--- - --- - --- - --- - --- - \n"
     ]
    }
   ],
   "source": [
    "n=int(input(\"Enter the register number: \"))\n",
    "print(\"--- - \"*5)\n",
    "for i in dct.keys():\n",
    "    if i==n:\n",
    "        print(\"First name  :\",dct[i][\"st_name\"])\n",
    "        print(\"Second name :\",dct[i][\"nd_name\"])\n",
    "        print(\"Gmail       :\",dct[i][\"mail\"])\n",
    "        print(\"Year        :\",dct[i][\"year\"])\n",
    "        print(\"Batch name  :\",dct[i][\"batch\"])\n",
    "print(\"--- - \"*5)\n",
    "        "
   ]
  },
  {
   "cell_type": "markdown",
   "id": "9ea1a124",
   "metadata": {},
   "source": [
    "## To add  details "
   ]
  },
  {
   "cell_type": "code",
   "execution_count": 14,
   "id": "99310b72",
   "metadata": {},
   "outputs": [
    {
     "name": "stdout",
     "output_type": "stream",
     "text": [
      "Register no :12347\n",
      "first name :rod\n",
      "second name :msr\n",
      "gamil :abf@gmail.com\n",
      "year :2\n",
      "batches :eee\n"
     ]
    }
   ],
   "source": [
    "reg_no =int(input(\"Register no :\"))\n",
    "fn=str(input(\"first name :\"))\n",
    "sn=str(input(\"second name :\"))\n",
    "gm=str(input(\"gamil :\"))\n",
    "y=int(input(\"year :\"))\n",
    "bat=str(input(\"batches :\"))\n",
    "\n",
    "temp={}\n",
    "\n",
    "temp[\"st_name\"]=fn\n",
    "temp[\"nd_name\"]=sn\n",
    "temp[\"mail\"]=gm\n",
    "temp[\"year\"]=y\n",
    "temp[\"batch\"]=bat\n",
    "\n",
    "dct[reg_no]=temp\n"
   ]
  },
  {
   "cell_type": "code",
   "execution_count": 15,
   "id": "b1a8089e",
   "metadata": {},
   "outputs": [
    {
     "data": {
      "text/plain": [
       "{12345: {'st_name': 'ang',\n",
       "  'nd_name': 'ros',\n",
       "  'mail': 'aweq@fsk',\n",
       "  'batch': 'cse',\n",
       "  'year': 3},\n",
       " 12346: {'st_name': 'emy',\n",
       "  'nd_name ': 'mar',\n",
       "  'mail': 'abc@fsk',\n",
       "  'batch': 'cse',\n",
       "  'year': 3},\n",
       " 12347: {'st_name': 'rod',\n",
       "  'nd_name': 'msr',\n",
       "  'mail': 'abf@gmail.com',\n",
       "  'year': 2,\n",
       "  'batch': 'eee'}}"
      ]
     },
     "execution_count": 15,
     "metadata": {},
     "output_type": "execute_result"
    }
   ],
   "source": [
    "dct"
   ]
  },
  {
   "cell_type": "markdown",
   "id": "8e25366b",
   "metadata": {},
   "source": [
    "## section details "
   ]
  },
  {
   "cell_type": "code",
   "execution_count": 20,
   "id": "7d548775",
   "metadata": {},
   "outputs": [],
   "source": [
    "section={ \"kl123\" :{\"hod\" :234, \"degree\":\"cse\",\"teacher\":[123,124]},\n",
    "          \"kl345\" :{\"hod\" :324, \"degree\":\"eee\",\"teacher\":[234,245]},\n",
    "          \"kl365\" :{\"hod\" :456, \"degree\":\"ece\",\"teacher\":[125,126]}\n",
    "         } "
   ]
  },
  {
   "cell_type": "code",
   "execution_count": 21,
   "id": "437ed9f6",
   "metadata": {},
   "outputs": [
    {
     "data": {
      "text/plain": [
       "{'kl123': {'hod': 234, 'degree': 'cse', 'teacher': [123, 124]},\n",
       " 'kl345': {'hod': 324, 'degree': 'eee', 'teacher': [234, 245]},\n",
       " 'kl365': {'hod': 456, 'degree': 'ece', 'teacher': [125, 126]}}"
      ]
     },
     "execution_count": 21,
     "metadata": {},
     "output_type": "execute_result"
    }
   ],
   "source": [
    "section"
   ]
  },
  {
   "cell_type": "markdown",
   "id": "e82c7c7c",
   "metadata": {},
   "source": [
    "# teacher details"
   ]
  },
  {
   "cell_type": "code",
   "execution_count": 22,
   "id": "7af9ca7b",
   "metadata": {},
   "outputs": [],
   "source": [
    "teacher = { 234 : {'first_name':'Ashish', \n",
    "                 'mail' : 'abc@gmail.com'},\n",
    "      324 :  {'first_name':'Abhishek', \n",
    "                 'mail' : 'abc@gmail.com'},\n",
    "      456 :  {'first_name':'Abhi', \n",
    "                 'mail' : 'abc@gmail.com'},\n",
    "      123 : {'first_name':'Abhimanyu', \n",
    "                 'mail' : 'abc@gmail.com'},\n",
    "      124 : {'first_name':'Karan', \n",
    "                 'mail' : 'abc@gmail.com'},\n",
    "      125 : {'first_name':'Arjun', \n",
    "                 'mail' : 'abc@gmail.com'},\n",
    "      126 : {'first_name':'Ayush', \n",
    "                 'mail' : 'abc@gmail.com'},\n",
    "      234 : {'first_name':'Abkush', \n",
    "                 'mail' : 'abc@gmail.com'},\n",
    "      245 : {'first_name':'Bharat', \n",
    "                 'mail' : 'abc@gmail.com'}}"
   ]
  },
  {
   "cell_type": "code",
   "execution_count": 31,
   "id": "8d63fb4a",
   "metadata": {},
   "outputs": [
    {
     "name": "stdout",
     "output_type": "stream",
     "text": [
      "hod : {'first_name': 'Abkush', 'mail': 'abc@gmail.com'}\n"
     ]
    }
   ],
   "source": [
    "print(\"hod :\",teacher[section[\"kl123\"][\"hod\"]])"
   ]
  },
  {
   "cell_type": "code",
   "execution_count": 34,
   "id": "95824793",
   "metadata": {},
   "outputs": [
    {
     "name": "stdout",
     "output_type": "stream",
     "text": [
      " teachers\n",
      "-- - -- - -- - -- - -- - \n",
      "Abhimanyu\n",
      "Karan\n"
     ]
    }
   ],
   "source": [
    "print(\" teachers\")\n",
    "print(\"-- - \"*5)\n",
    "for i in section[\"kl123\"][\"teacher\"]:\n",
    "    print(teacher[i][\"first_name\"])"
   ]
  },
  {
   "cell_type": "code",
   "execution_count": 40,
   "id": "60c443f3",
   "metadata": {},
   "outputs": [
    {
     "name": "stdout",
     "output_type": "stream",
     "text": [
      " teachers\n",
      "-- - -- - -- - -- - -- - \n",
      "section kl123\n",
      "............\n",
      "Abhimanyu\n",
      "Karan\n",
      "................\n",
      "section kl345\n",
      "............\n",
      "Abkush\n",
      "Bharat\n",
      "................\n",
      "section kl365\n",
      "............\n",
      "Arjun\n",
      "Ayush\n",
      "................\n"
     ]
    }
   ],
   "source": [
    "print(\" teachers\")\n",
    "print(\"-- - \"*5)\n",
    "for i in section.keys():\n",
    "    print(f\"section {i}\")\n",
    "    print(\"....\"*3)\n",
    "    for j in section[i][\"teacher\"]:\n",
    "         print(teacher[j][\"first_name\"])\n",
    "    print(\"....\"*4)"
   ]
  },
  {
   "cell_type": "code",
   "execution_count": null,
   "id": "93b483da",
   "metadata": {},
   "outputs": [],
   "source": []
  },
  {
   "cell_type": "markdown",
   "id": "8602b674",
   "metadata": {},
   "source": [
    "# NUMPY"
   ]
  },
  {
   "cell_type": "code",
   "execution_count": 2,
   "id": "26e64723",
   "metadata": {},
   "outputs": [
    {
     "name": "stdout",
     "output_type": "stream",
     "text": [
      "Requirement already satisfied: numpy in c:\\users\\toshiba\\anaconda3\\lib\\site-packages (1.24.3)\n"
     ]
    }
   ],
   "source": [
    "!pip  install numpy"
   ]
  },
  {
   "cell_type": "code",
   "execution_count": 3,
   "id": "b8550c66",
   "metadata": {},
   "outputs": [],
   "source": [
    "import numpy"
   ]
  },
  {
   "cell_type": "code",
   "execution_count": 5,
   "id": "0d7ca7ce",
   "metadata": {},
   "outputs": [
    {
     "data": {
      "text/plain": [
       "0.6478657950230583"
      ]
     },
     "execution_count": 5,
     "metadata": {},
     "output_type": "execute_result"
    }
   ],
   "source": [
    "# floating point number ranging from 0 to 1\n",
    "numpy.random.random()"
   ]
  },
  {
   "cell_type": "markdown",
   "id": "b88ee21e",
   "metadata": {},
   "source": [
    "## 1.heads or tail probabilty"
   ]
  },
  {
   "cell_type": "code",
   "execution_count": 12,
   "id": "58b572a3",
   "metadata": {},
   "outputs": [
    {
     "name": "stdout",
     "output_type": "stream",
     "text": [
      "heads\n"
     ]
    }
   ],
   "source": [
    "if(numpy.random.random()>.5):\n",
    "    print(\"heads\")\n",
    "else:\n",
    "    print(\"tail\")"
   ]
  },
  {
   "cell_type": "code",
   "execution_count": 14,
   "id": "561bc5c1",
   "metadata": {},
   "outputs": [
    {
     "data": {
      "text/plain": [
       "array([[0.31114428, 0.04320989],\n",
       "       [0.68734323, 0.22703512]])"
      ]
     },
     "execution_count": 14,
     "metadata": {},
     "output_type": "execute_result"
    }
   ],
   "source": [
    "## array using numpy\n",
    "numpy.random.random((2,2))"
   ]
  },
  {
   "cell_type": "code",
   "execution_count": 15,
   "id": "61cce2d6",
   "metadata": {},
   "outputs": [
    {
     "data": {
      "text/plain": [
       "array([1, 2, 3, 4, 5, 6, 7, 8, 9])"
      ]
     },
     "execution_count": 15,
     "metadata": {},
     "output_type": "execute_result"
    }
   ],
   "source": [
    "numpy.arange(1,10,1)"
   ]
  },
  {
   "cell_type": "code",
   "execution_count": 19,
   "id": "d4b90720",
   "metadata": {},
   "outputs": [
    {
     "data": {
      "text/plain": [
       "array([1, 3, 5, 7, 9])"
      ]
     },
     "execution_count": 19,
     "metadata": {},
     "output_type": "execute_result"
    }
   ],
   "source": [
    "# acts a for loop\n",
    "numpy.arange(1,11,2)"
   ]
  },
  {
   "cell_type": "code",
   "execution_count": 20,
   "id": "a198ba0a",
   "metadata": {},
   "outputs": [
    {
     "data": {
      "text/plain": [
       "array([ 1. ,  5.5, 10. ])"
      ]
     },
     "execution_count": 20,
     "metadata": {},
     "output_type": "execute_result"
    }
   ],
   "source": [
    "# divides the range into equall parts\n",
    "numpy.linspace(1,10,3)"
   ]
  },
  {
   "cell_type": "code",
   "execution_count": 21,
   "id": "c11d41c5",
   "metadata": {},
   "outputs": [],
   "source": [
    "# assiging numpy as other short words\n",
    "import numpy as np"
   ]
  },
  {
   "cell_type": "code",
   "execution_count": 22,
   "id": "3a9f7144",
   "metadata": {},
   "outputs": [
    {
     "data": {
      "text/plain": [
       "0.8809924002808311"
      ]
     },
     "execution_count": 22,
     "metadata": {},
     "output_type": "execute_result"
    }
   ],
   "source": [
    "np.random.random()"
   ]
  },
  {
   "cell_type": "code",
   "execution_count": 27,
   "id": "5f46e98f",
   "metadata": {},
   "outputs": [
    {
     "data": {
      "text/plain": [
       "array([[0.48498556, 0.06799524, 0.29234059],\n",
       "       [0.90686219, 0.63735287, 0.04496372]])"
      ]
     },
     "execution_count": 27,
     "metadata": {},
     "output_type": "execute_result"
    }
   ],
   "source": [
    "np.random.random((2,3))"
   ]
  },
  {
   "cell_type": "code",
   "execution_count": 25,
   "id": "38dac51c",
   "metadata": {},
   "outputs": [
    {
     "data": {
      "text/plain": [
       "array([[0.61462842, 0.00914884, 0.04881349],\n",
       "       [0.21983629, 0.01649366, 0.91527044]])"
      ]
     },
     "execution_count": 25,
     "metadata": {},
     "output_type": "execute_result"
    }
   ],
   "source": [
    "arr=np.random.random((2,3))\n",
    "arr"
   ]
  },
  {
   "cell_type": "code",
   "execution_count": 26,
   "id": "c2cfc213",
   "metadata": {},
   "outputs": [
    {
     "data": {
      "text/plain": [
       "numpy.ndarray"
      ]
     },
     "execution_count": 26,
     "metadata": {},
     "output_type": "execute_result"
    }
   ],
   "source": [
    "type(arr)"
   ]
  },
  {
   "cell_type": "markdown",
   "id": "d984d723",
   "metadata": {},
   "source": [
    "## reshaping the array"
   ]
  },
  {
   "cell_type": "code",
   "execution_count": 28,
   "id": "13ce82bd",
   "metadata": {},
   "outputs": [
    {
     "data": {
      "text/plain": [
       "(2, 3)"
      ]
     },
     "execution_count": 28,
     "metadata": {},
     "output_type": "execute_result"
    }
   ],
   "source": [
    "## a numpy function()\n",
    "arr.shape"
   ]
  },
  {
   "cell_type": "code",
   "execution_count": 36,
   "id": "6763802a",
   "metadata": {},
   "outputs": [
    {
     "data": {
      "text/plain": [
       "6"
      ]
     },
     "execution_count": 36,
     "metadata": {},
     "output_type": "execute_result"
    }
   ],
   "source": [
    "arr.size"
   ]
  },
  {
   "cell_type": "code",
   "execution_count": 34,
   "id": "9153e553",
   "metadata": {},
   "outputs": [
    {
     "data": {
      "text/plain": [
       "array([[0.61462842, 0.00914884],\n",
       "       [0.04881349, 0.21983629],\n",
       "       [0.01649366, 0.91527044]])"
      ]
     },
     "execution_count": 34,
     "metadata": {},
     "output_type": "execute_result"
    }
   ],
   "source": [
    "# while reshaping it should have the same number of elemenṭs as the array\n",
    "arr.reshape((3,2))"
   ]
  },
  {
   "cell_type": "code",
   "execution_count": 35,
   "id": "5a39ae8c",
   "metadata": {},
   "outputs": [
    {
     "data": {
      "text/plain": [
       "array([[0.61462842],\n",
       "       [0.00914884],\n",
       "       [0.04881349],\n",
       "       [0.21983629],\n",
       "       [0.01649366],\n",
       "       [0.91527044]])"
      ]
     },
     "execution_count": 35,
     "metadata": {},
     "output_type": "execute_result"
    }
   ],
   "source": [
    "np.reshape(arr,(6,1))"
   ]
  },
  {
   "cell_type": "markdown",
   "id": "8c050fdc",
   "metadata": {},
   "source": [
    "## array flattern"
   ]
  },
  {
   "cell_type": "code",
   "execution_count": 42,
   "id": "4c9b29d4",
   "metadata": {},
   "outputs": [],
   "source": [
    "arr=np.random.random((5,4))"
   ]
  },
  {
   "cell_type": "code",
   "execution_count": 43,
   "id": "ef5668d8",
   "metadata": {},
   "outputs": [
    {
     "data": {
      "text/plain": [
       "array([[0.87256441, 0.44433607, 0.204728  , 0.8547389 ],\n",
       "       [0.96789991, 0.85260136, 0.232329  , 0.35599876],\n",
       "       [0.88407326, 0.18188801, 0.45880108, 0.37288764],\n",
       "       [0.82105015, 0.93024765, 0.01144708, 0.76357733],\n",
       "       [0.80257113, 0.30680183, 0.79109675, 0.11493553]])"
      ]
     },
     "execution_count": 43,
     "metadata": {},
     "output_type": "execute_result"
    }
   ],
   "source": [
    "arr"
   ]
  },
  {
   "cell_type": "code",
   "execution_count": 44,
   "id": "7250997e",
   "metadata": {},
   "outputs": [
    {
     "data": {
      "text/plain": [
       "20"
      ]
     },
     "execution_count": 44,
     "metadata": {},
     "output_type": "execute_result"
    }
   ],
   "source": [
    "arr.size"
   ]
  },
  {
   "cell_type": "code",
   "execution_count": 51,
   "id": "cbeeaf1f",
   "metadata": {},
   "outputs": [],
   "source": [
    "arr=arr.flatten()"
   ]
  },
  {
   "cell_type": "code",
   "execution_count": 53,
   "id": "423a0379",
   "metadata": {},
   "outputs": [
    {
     "data": {
      "text/plain": [
       "20"
      ]
     },
     "execution_count": 53,
     "metadata": {},
     "output_type": "execute_result"
    }
   ],
   "source": [
    "arr.size"
   ]
  },
  {
   "cell_type": "code",
   "execution_count": 56,
   "id": "813a02b9",
   "metadata": {},
   "outputs": [
    {
     "data": {
      "text/plain": [
       "(20,)"
      ]
     },
     "execution_count": 56,
     "metadata": {},
     "output_type": "execute_result"
    }
   ],
   "source": [
    "# it flatten the aray shape to 0 rows\n",
    "arr.shape"
   ]
  },
  {
   "cell_type": "markdown",
   "id": "2a7bc50a",
   "metadata": {},
   "source": [
    "## array to list and vise-versa"
   ]
  },
  {
   "cell_type": "code",
   "execution_count": 1,
   "id": "12e2078e",
   "metadata": {},
   "outputs": [],
   "source": [
    "import numpy"
   ]
  },
  {
   "cell_type": "code",
   "execution_count": 6,
   "id": "2316d7db",
   "metadata": {},
   "outputs": [],
   "source": [
    "lst=[1,2,3,4,5,6]"
   ]
  },
  {
   "cell_type": "code",
   "execution_count": 7,
   "id": "fe61a5e0",
   "metadata": {},
   "outputs": [
    {
     "data": {
      "text/plain": [
       "list"
      ]
     },
     "execution_count": 7,
     "metadata": {},
     "output_type": "execute_result"
    }
   ],
   "source": [
    "type(lst)"
   ]
  },
  {
   "cell_type": "code",
   "execution_count": 8,
   "id": "53b0a8c1",
   "metadata": {},
   "outputs": [],
   "source": [
    "# using numpy to convert\n",
    "arr=numpy.array(lst)"
   ]
  },
  {
   "cell_type": "code",
   "execution_count": 9,
   "id": "7aa51989",
   "metadata": {},
   "outputs": [
    {
     "data": {
      "text/plain": [
       "array([1, 2, 3, 4, 5, 6])"
      ]
     },
     "execution_count": 9,
     "metadata": {},
     "output_type": "execute_result"
    }
   ],
   "source": [
    "arr"
   ]
  },
  {
   "cell_type": "code",
   "execution_count": 11,
   "id": "353053c8",
   "metadata": {},
   "outputs": [],
   "source": [
    "# from array to list \n",
    "msn=list(arr)"
   ]
  },
  {
   "cell_type": "code",
   "execution_count": 13,
   "id": "758e0b1e",
   "metadata": {},
   "outputs": [
    {
     "data": {
      "text/plain": [
       "[1, 2, 3, 4, 5, 6]"
      ]
     },
     "execution_count": 13,
     "metadata": {},
     "output_type": "execute_result"
    }
   ],
   "source": [
    "# list\n",
    "msn"
   ]
  },
  {
   "cell_type": "code",
   "execution_count": 16,
   "id": "e73a8394",
   "metadata": {},
   "outputs": [
    {
     "name": "stdout",
     "output_type": "stream",
     "text": [
      "[1 2 3 5 6]\n"
     ]
    }
   ],
   "source": [
    "## list cannot be added ,sub,or divided by each element but array can so use array\n",
    "ltr=[1,2,3,5,6]\n",
    "ar=numpy.array(ltr)\n",
    "print(ar)"
   ]
  },
  {
   "cell_type": "markdown",
   "id": "f371c572",
   "metadata": {},
   "source": [
    "## arthimatic operations in arrays"
   ]
  },
  {
   "cell_type": "code",
   "execution_count": 17,
   "id": "ff62486f",
   "metadata": {},
   "outputs": [
    {
     "ename": "TypeError",
     "evalue": "can only concatenate list (not \"int\") to list",
     "output_type": "error",
     "traceback": [
      "\u001b[1;31m---------------------------------------------------------------------------\u001b[0m",
      "\u001b[1;31mTypeError\u001b[0m                                 Traceback (most recent call last)",
      "Cell \u001b[1;32mIn[17], line 1\u001b[0m\n\u001b[1;32m----> 1\u001b[0m \u001b[38;5;28mprint\u001b[39m(ltr\u001b[38;5;241m+\u001b[39m\u001b[38;5;241m1\u001b[39m)\n",
      "\u001b[1;31mTypeError\u001b[0m: can only concatenate list (not \"int\") to list"
     ]
    }
   ],
   "source": [
    "## error if we try to add the things in  the list \n",
    "print(ltr+1)"
   ]
  },
  {
   "cell_type": "code",
   "execution_count": 18,
   "id": "a1b1cbf3",
   "metadata": {},
   "outputs": [
    {
     "name": "stdout",
     "output_type": "stream",
     "text": [
      "[3 4 5 7 8]\n",
      "[0 1 2 4 5]\n",
      "[ 3  6  9 15 18]\n",
      "[0.5 1.  1.5 2.5 3. ]\n"
     ]
    }
   ],
   "source": [
    "print(ar+2)\n",
    "print(ar-1)\n",
    "print(ar*3)\n",
    "print(ar/2)"
   ]
  },
  {
   "cell_type": "code",
   "execution_count": 19,
   "id": "43299930",
   "metadata": {},
   "outputs": [
    {
     "data": {
      "text/plain": [
       "array([1, 2, 3, 4, 5, 6])"
      ]
     },
     "execution_count": 19,
     "metadata": {},
     "output_type": "execute_result"
    }
   ],
   "source": [
    "arr"
   ]
  },
  {
   "cell_type": "code",
   "execution_count": 20,
   "id": "a80f6a0d",
   "metadata": {},
   "outputs": [],
   "source": [
    "arr+=5"
   ]
  },
  {
   "cell_type": "code",
   "execution_count": 21,
   "id": "1fe02ebb",
   "metadata": {},
   "outputs": [
    {
     "data": {
      "text/plain": [
       "array([ 6,  7,  8,  9, 10, 11])"
      ]
     },
     "execution_count": 21,
     "metadata": {},
     "output_type": "execute_result"
    }
   ],
   "source": [
    "arr"
   ]
  },
  {
   "cell_type": "code",
   "execution_count": 22,
   "id": "061a2917",
   "metadata": {},
   "outputs": [
    {
     "data": {
      "text/plain": [
       "11"
      ]
     },
     "execution_count": 22,
     "metadata": {},
     "output_type": "execute_result"
    }
   ],
   "source": [
    "arr.max()"
   ]
  },
  {
   "cell_type": "code",
   "execution_count": 23,
   "id": "eb3ef906",
   "metadata": {},
   "outputs": [
    {
     "data": {
      "text/plain": [
       "6"
      ]
     },
     "execution_count": 23,
     "metadata": {},
     "output_type": "execute_result"
    }
   ],
   "source": [
    "arr.min()"
   ]
  },
  {
   "cell_type": "code",
   "execution_count": 24,
   "id": "a8256ccc",
   "metadata": {},
   "outputs": [
    {
     "data": {
      "text/plain": [
       "8.5"
      ]
     },
     "execution_count": 24,
     "metadata": {},
     "output_type": "execute_result"
    }
   ],
   "source": [
    "arr.mean()"
   ]
  },
  {
   "cell_type": "markdown",
   "id": "32929a47",
   "metadata": {},
   "source": [
    "## operations on array"
   ]
  },
  {
   "cell_type": "code",
   "execution_count": 3,
   "id": "b784d862",
   "metadata": {},
   "outputs": [],
   "source": [
    "arr2=numpy.array([[1,2,3,4,5],[3,4,5,6,7]])"
   ]
  },
  {
   "cell_type": "code",
   "execution_count": 4,
   "id": "e4afcc03",
   "metadata": {},
   "outputs": [
    {
     "data": {
      "text/plain": [
       "array([[1, 2, 3, 4, 5],\n",
       "       [3, 4, 5, 6, 7]])"
      ]
     },
     "execution_count": 4,
     "metadata": {},
     "output_type": "execute_result"
    }
   ],
   "source": [
    "arr2"
   ]
  },
  {
   "cell_type": "code",
   "execution_count": 5,
   "id": "75670a3a",
   "metadata": {},
   "outputs": [
    {
     "data": {
      "text/plain": [
       "1"
      ]
     },
     "execution_count": 5,
     "metadata": {},
     "output_type": "execute_result"
    }
   ],
   "source": [
    "arr2.min()"
   ]
  },
  {
   "cell_type": "code",
   "execution_count": 1,
   "id": "b4a97158",
   "metadata": {},
   "outputs": [
    {
     "ename": "NameError",
     "evalue": "name 'arr2' is not defined",
     "output_type": "error",
     "traceback": [
      "\u001b[1;31m---------------------------------------------------------------------------\u001b[0m",
      "\u001b[1;31mNameError\u001b[0m                                 Traceback (most recent call last)",
      "Cell \u001b[1;32mIn[1], line 2\u001b[0m\n\u001b[0;32m      1\u001b[0m \u001b[38;5;66;03m## to get row wise highest rank is \u001b[39;00m\n\u001b[1;32m----> 2\u001b[0m arr2\u001b[38;5;241m.\u001b[39mmin(ais\u001b[38;5;241m=\u001b[39m\u001b[38;5;241m0\u001b[39m)\n",
      "\u001b[1;31mNameError\u001b[0m: name 'arr2' is not defined"
     ]
    }
   ],
   "source": [
    "## to get row wise highest rank is \n",
    "arr2.min(ais=0)"
   ]
  },
  {
   "cell_type": "code",
   "execution_count": null,
   "id": "ecefbbd5",
   "metadata": {},
   "outputs": [],
   "source": []
  },
  {
   "cell_type": "code",
   "execution_count": null,
   "id": "006bfa1b",
   "metadata": {},
   "outputs": [],
   "source": []
  }
 ],
 "metadata": {
  "kernelspec": {
   "display_name": "Python 3 (ipykernel)",
   "language": "python",
   "name": "python3"
  },
  "language_info": {
   "codemirror_mode": {
    "name": "ipython",
    "version": 3
   },
   "file_extension": ".py",
   "mimetype": "text/x-python",
   "name": "python",
   "nbconvert_exporter": "python",
   "pygments_lexer": "ipython3",
   "version": "3.11.5"
  }
 },
 "nbformat": 4,
 "nbformat_minor": 5
}
