{
 "cells": [
  {
   "cell_type": "markdown",
   "id": "6163df78",
   "metadata": {},
   "source": [
    "# Dictionary"
   ]
  },
  {
   "cell_type": "code",
   "execution_count": 15,
   "id": "8047e41a",
   "metadata": {},
   "outputs": [
    {
     "name": "stdout",
     "output_type": "stream",
     "text": [
      "{1: 'one', 2: 'two', 3: 'three', 4: 'four'}\n"
     ]
    }
   ],
   "source": [
    "keys=[1,2,3,4]\n",
    "values=[\"one\",\"two\",\"three\",\"four\"]\n",
    "dict1=dict(zip(keys,values))\n",
    "print(dict1)"
   ]
  },
  {
   "cell_type": "code",
   "execution_count": 16,
   "id": "a016a9e8",
   "metadata": {},
   "outputs": [
    {
     "name": "stdout",
     "output_type": "stream",
     "text": [
      "{1: 'one', 2: 'two', 3: 'four'}\n"
     ]
    }
   ],
   "source": [
    "keys=[1,2,3,3]\n",
    "values=[\"one\",\"two\",\"three\",\"four\"]\n",
    "dict2=dict(zip(keys,values))\n",
    "print(dict2)\n",
    "## since zip is used to avoid alternative values"
   ]
  },
  {
   "cell_type": "code",
   "execution_count": 17,
   "id": "fe1c4269",
   "metadata": {},
   "outputs": [
    {
     "name": "stdout",
     "output_type": "stream",
     "text": [
      "1 2 3 4\n"
     ]
    }
   ],
   "source": [
    "print(*dict1)"
   ]
  },
  {
   "cell_type": "code",
   "execution_count": 18,
   "id": "e19057bf",
   "metadata": {},
   "outputs": [
    {
     "name": "stdout",
     "output_type": "stream",
     "text": [
      "{'a': 40, 'd': 20, 'f': 30, 's': 50, 'r': 70, 't': 80, 'g': 90, 'h': 100}\n"
     ]
    }
   ],
   "source": [
    "st=\"adfasrrtgh\"\n",
    "val=[10,20,30,40,50,60,70,80,90,100]\n",
    "dict3=dict(zip(st,val))\n",
    "print(dict3)"
   ]
  },
  {
   "cell_type": "code",
   "execution_count": 19,
   "id": "088155d3",
   "metadata": {},
   "outputs": [
    {
     "name": "stdout",
     "output_type": "stream",
     "text": [
      "dict_keys([1, 2, 3])\n"
     ]
    }
   ],
   "source": [
    "print(dict2.keys())\n"
   ]
  },
  {
   "cell_type": "code",
   "execution_count": 20,
   "id": "489f241a",
   "metadata": {},
   "outputs": [
    {
     "name": "stdout",
     "output_type": "stream",
     "text": [
      "{1: 'one', 2: 'two', 3: 'three', 4: 'four', 9: 'nine'}\n"
     ]
    }
   ],
   "source": [
    "dict1[9]=\"nine\"\n",
    "print(dict1)"
   ]
  },
  {
   "cell_type": "code",
   "execution_count": 21,
   "id": "3fa074fa",
   "metadata": {},
   "outputs": [
    {
     "name": "stdout",
     "output_type": "stream",
     "text": [
      "{1: 'one', 2: 'two', 3: 'three', 4: 'four', 9: 'nine', 5: 'five'}\n"
     ]
    }
   ],
   "source": [
    "dict1[5]=\"five\"\n",
    "print(dict1)"
   ]
  },
  {
   "cell_type": "code",
   "execution_count": 22,
   "id": "1f2282ca",
   "metadata": {},
   "outputs": [
    {
     "name": "stdout",
     "output_type": "stream",
     "text": [
      "{1: 'one', 2: 'two', 3: 'threee', 4: 'four', 9: 'nine', 5: 'five'}\n"
     ]
    }
   ],
   "source": [
    "dict1[3]=\"threee\"\n",
    "print(dict1)"
   ]
  },
  {
   "cell_type": "code",
   "execution_count": 26,
   "id": "b6f9fbe2",
   "metadata": {},
   "outputs": [
    {
     "name": "stdout",
     "output_type": "stream",
     "text": [
      "threee\n",
      "None\n",
      "invaild\n"
     ]
    }
   ],
   "source": [
    "print(dict1.get(3))\n",
    "print(dict1.get(6))\n",
    "print(dict1.get(6,\"invaild\"))"
   ]
  },
  {
   "cell_type": "code",
   "execution_count": 27,
   "id": "6b5eeb67",
   "metadata": {},
   "outputs": [
    {
     "name": "stdout",
     "output_type": "stream",
     "text": [
      "{1: 'one', 2: 'two', 3: 'threee', 4: 'four', 9: 'nine', 5: 'five'}\n"
     ]
    }
   ],
   "source": [
    "print(dict1)"
   ]
  },
  {
   "cell_type": "code",
   "execution_count": 28,
   "id": "f0a9e2fb",
   "metadata": {},
   "outputs": [
    {
     "name": "stdout",
     "output_type": "stream",
     "text": [
      "dict_items([(1, 'one'), (2, 'two'), (3, 'threee'), (4, 'four'), (9, 'nine'), (5, 'five')])\n"
     ]
    }
   ],
   "source": [
    "print(dict1.items())"
   ]
  },
  {
   "cell_type": "code",
   "execution_count": 29,
   "id": "6181afa9",
   "metadata": {},
   "outputs": [
    {
     "name": "stdout",
     "output_type": "stream",
     "text": [
      "6\n",
      "1\n",
      "24\n"
     ]
    }
   ],
   "source": [
    "print(len(dict1))\n",
    "print(min(dict1))\n",
    "print(sum(dict1))\n",
    "# sum,min,len is of the keys in the dictionary"
   ]
  },
  {
   "cell_type": "code",
   "execution_count": 31,
   "id": "4c305fa9",
   "metadata": {},
   "outputs": [
    {
     "name": "stdout",
     "output_type": "stream",
     "text": [
      "no\n"
     ]
    }
   ],
   "source": [
    "if \"two\" in dict1:\n",
    "    print(\"yes\")\n",
    "else:\n",
    "    print(\"no\")\n",
    "# if simple given value it is checked in the keys"
   ]
  },
  {
   "cell_type": "code",
   "execution_count": 32,
   "id": "2909787e",
   "metadata": {},
   "outputs": [
    {
     "name": "stdout",
     "output_type": "stream",
     "text": [
      "yes\n"
     ]
    }
   ],
   "source": [
    "if \"two\" in dict1.values():\n",
    "    print(\"yes\")\n",
    "else:\n",
    "    print(\"no\")\n",
    "# if simple given value it is checked in the keys"
   ]
  },
  {
   "cell_type": "code",
   "execution_count": 37,
   "id": "7a81e6de",
   "metadata": {},
   "outputs": [
    {
     "name": "stdout",
     "output_type": "stream",
     "text": [
      "1 --- one\n",
      "2 --- one\n",
      "3 --- one\n",
      "4 --- one\n",
      "9 --- one\n",
      "5 --- one\n"
     ]
    }
   ],
   "source": [
    "for i in dict1.keys():\n",
    "    for j in dict1.values():\n",
    "        print(i,\"---\",j)\n",
    "        break"
   ]
  },
  {
   "cell_type": "markdown",
   "id": "6f447e79",
   "metadata": {},
   "source": [
    "# set()"
   ]
  },
  {
   "cell_type": "code",
   "execution_count": 46,
   "id": "6c1e367a",
   "metadata": {},
   "outputs": [
    {
     "name": "stdout",
     "output_type": "stream",
     "text": [
      "{1, 2, 3, 4, 5, 6, 7, 8, 9, 10} <class 'set'>\n",
      "56 34 555 ram\n"
     ]
    }
   ],
   "source": [
    "s1={4,5,1,2,3,6,7,8,9,10}\n",
    "s2={555,56,34,34,\"ram\"}\n",
    "print(s1,type(s1))\n",
    "print(*s2)\n",
    "# unordered format"
   ]
  },
  {
   "cell_type": "code",
   "execution_count": 47,
   "id": "8d625736",
   "metadata": {},
   "outputs": [
    {
     "name": "stdout",
     "output_type": "stream",
     "text": [
      "{1, 2, 3, 4, 5, 6, 7, 8, 9, 10, 100}\n"
     ]
    }
   ],
   "source": [
    "s1.add(100)\n",
    "print(s1)"
   ]
  },
  {
   "cell_type": "code",
   "execution_count": 48,
   "id": "34856719",
   "metadata": {},
   "outputs": [
    {
     "name": "stdout",
     "output_type": "stream",
     "text": [
      "{1, 2, 3, 4, 5, 6, 7, 8, 9, 100}\n"
     ]
    }
   ],
   "source": [
    "s1.discard(10)\n",
    "print(s1)"
   ]
  },
  {
   "cell_type": "code",
   "execution_count": 51,
   "id": "03b8cf47",
   "metadata": {},
   "outputs": [
    {
     "name": "stdout",
     "output_type": "stream",
     "text": [
      "False\n",
      "True\n",
      "True\n"
     ]
    }
   ],
   "source": [
    "s3={1,2,3,5,6,7,3,4,8}\n",
    "s4={3,4,5}\n",
    "print(s3.issubset(s4))\n",
    "print(s4.issubset(s3))\n",
    "print(s3.issuperset(s4))"
   ]
  },
  {
   "cell_type": "code",
   "execution_count": 52,
   "id": "1c420b33",
   "metadata": {},
   "outputs": [
    {
     "name": "stdout",
     "output_type": "stream",
     "text": [
      "{1, 2, 3, 4, 5, 6, 7, 8}\n",
      "{2, 3}\n",
      "{1, 4, 5}\n",
      "{8, 6, 7}\n",
      "{1, 4, 5, 6, 7, 8}\n"
     ]
    }
   ],
   "source": [
    "f1={1,2,3,5,4}\n",
    "f2={2,3,6,7,8}\n",
    "print(f1 | f2)  #union\n",
    "print(f1&f2)    #intersection\n",
    "print(f1-f2)    #in f1 not in f2\n",
    "print(f2-f1)    #in f2 but not in f1\n",
    "print(f2^f1)    #union with common removed "
   ]
  },
  {
   "cell_type": "code",
   "execution_count": 58,
   "id": "e1015cbf",
   "metadata": {},
   "outputs": [
    {
     "name": "stdout",
     "output_type": "stream",
     "text": [
      "yes\n"
     ]
    }
   ],
   "source": [
    "f1={1,2,3,6,5,3,7,3,7,8,}\n",
    "\n",
    "if 3 in f1:\n",
    "    print(\"yes\")\n",
    "else:\n",
    "    print(\"no\")"
   ]
  },
  {
   "cell_type": "code",
   "execution_count": 57,
   "id": "30f63e5c",
   "metadata": {},
   "outputs": [
    {
     "name": "stdout",
     "output_type": "stream",
     "text": [
      "1 2 3 5 6 7 8 9 "
     ]
    }
   ],
   "source": [
    "f1={1,2,3,6,5,3,7,3,7,8,9}\n",
    "for ele in f1:\n",
    "    print(ele,end=\" \")"
   ]
  },
  {
   "cell_type": "code",
   "execution_count": 59,
   "id": "debb6002",
   "metadata": {},
   "outputs": [
    {
     "name": "stdout",
     "output_type": "stream",
     "text": [
      "{1, 2, 3, 4, 6}\n"
     ]
    }
   ],
   "source": [
    "# to turn a list to set()\n",
    "l=[1,3,2,4,6,4,3,4]\n",
    "s=set(l)\n",
    "print(s)\n",
    "#dupicate in the set is avoided"
   ]
  },
  {
   "cell_type": "markdown",
   "id": "8c0ec9e9",
   "metadata": {},
   "source": [
    "# turple\n"
   ]
  },
  {
   "cell_type": "code",
   "execution_count": 64,
   "id": "7d9a0b4b",
   "metadata": {},
   "outputs": [
    {
     "name": "stdout",
     "output_type": "stream",
     "text": [
      "((1, 2, 3, 4, 5), (345, 65, 75, 'ram'))\n",
      "(1, 2, 3, 4, 5, 345, 65, 75, 'ram')\n"
     ]
    }
   ],
   "source": [
    "t1=(1,2,3,4,5)\n",
    "t2=(345,65,75,\"ram\")\n",
    "t=t1,t2\n",
    "m=t1+t2\n",
    "print(t)\n",
    "print(m)"
   ]
  },
  {
   "cell_type": "code",
   "execution_count": null,
   "id": "3b280a3d",
   "metadata": {},
   "outputs": [],
   "source": []
  },
  {
   "cell_type": "code",
   "execution_count": null,
   "id": "739b003f",
   "metadata": {},
   "outputs": [],
   "source": []
  }
 ],
 "metadata": {
  "kernelspec": {
   "display_name": "Python 3 (ipykernel)",
   "language": "python",
   "name": "python3"
  },
  "language_info": {
   "codemirror_mode": {
    "name": "ipython",
    "version": 3
   },
   "file_extension": ".py",
   "mimetype": "text/x-python",
   "name": "python",
   "nbconvert_exporter": "python",
   "pygments_lexer": "ipython3",
   "version": "3.11.5"
  }
 },
 "nbformat": 4,
 "nbformat_minor": 5
}
